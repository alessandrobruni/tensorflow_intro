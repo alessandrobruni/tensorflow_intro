{
  "cells": [
    {
      "cell_type": "markdown",
      "metadata": {
        "id": "view-in-github",
        "colab_type": "text"
      },
      "source": [
        "<a href=\"https://colab.research.google.com/github/alessandrobruni/tensorflow_intro/blob/main/C2W2_Assignment.ipynb\" target=\"_parent\"><img src=\"https://colab.research.google.com/assets/colab-badge.svg\" alt=\"Open In Colab\"/></a>"
      ]
    },
    {
      "cell_type": "markdown",
      "metadata": {
        "id": "AuW-xg_bTsaF"
      },
      "source": [
        "# Week 2: Tackle Overfitting with Data Augmentation\n",
        "\n",
        "Welcome to this assignment! As in the previous week, you will be using the famous `cats vs dogs` dataset to train a model that can classify images of dogs from images of cats. For this, you will create your own Convolutional Neural Network in Tensorflow and leverage Keras' image preprocessing utilities, more so this time around since Keras provides excellent support for augmenting image data.\n",
        "\n",
        "You will also need to create the helper functions to move the images around the filesystem as you did last week, so if you need to refresh your memory with the `os` module be sure to take a look a the [docs](https://docs.python.org/3/library/os.html).\n",
        "\n",
        "Let's get started!"
      ],
      "id": "AuW-xg_bTsaF"
    },
    {
      "cell_type": "code",
      "execution_count": 1,
      "metadata": {
        "id": "dn-6c02VmqiN",
        "tags": [
          "graded"
        ]
      },
      "outputs": [],
      "source": [
        "import os\n",
        "import zipfile\n",
        "import random\n",
        "import shutil\n",
        "import tensorflow as tf\n",
        "from tensorflow.keras.preprocessing.image import ImageDataGenerator\n",
        "from shutil import copyfile\n",
        "import matplotlib.pyplot as plt"
      ],
      "id": "dn-6c02VmqiN"
    },
    {
      "cell_type": "markdown",
      "metadata": {
        "id": "bLTQd84RUs1j"
      },
      "source": [
        "Download the dataset from its original source by running the cell below. \n",
        "\n",
        "Note that the `zip` file that contains the images is unzipped under the `/tmp` directory."
      ],
      "id": "bLTQd84RUs1j"
    },
    {
      "cell_type": "code",
      "execution_count": 2,
      "metadata": {
        "id": "3sd9dQWa23aj",
        "lines_to_next_cell": 2,
        "tags": [],
        "colab": {
          "base_uri": "https://localhost:8080/"
        },
        "outputId": "cd5fd12d-74c7-47f7-869c-6a805a5a1d2d"
      },
      "outputs": [
        {
          "output_type": "stream",
          "name": "stdout",
          "text": [
            "--2022-11-11 10:10:16--  https://download.microsoft.com/download/3/E/1/3E1C3F21-ECDB-4869-8368-6DEBA77B919F/kagglecatsanddogs_5340.zip\n",
            "Resolving download.microsoft.com (download.microsoft.com)... 72.247.101.3, 2600:1406:3c:393::317f, 2600:1406:3c:3a4::317f\n",
            "Connecting to download.microsoft.com (download.microsoft.com)|72.247.101.3|:443... connected.\n",
            "HTTP request sent, awaiting response... 200 OK\n",
            "Length: 824887076 (787M) [application/octet-stream]\n",
            "Saving to: ‘/tmp/cats-and-dogs.zip’\n",
            "\n",
            "/tmp/cats-and-dogs. 100%[===================>] 786.67M   118MB/s    in 7.9s    \n",
            "\n",
            "2022-11-11 10:10:25 (99.3 MB/s) - ‘/tmp/cats-and-dogs.zip’ saved [824887076/824887076]\n",
            "\n"
          ]
        }
      ],
      "source": [
        "# If the URL doesn't work, visit https://www.microsoft.com/en-us/download/confirmation.aspx?id=54765\n",
        "# And right click on the 'Download Manually' link to get a new URL to the dataset\n",
        "\n",
        "# Note: This is a very large dataset and will take some time to download\n",
        "\n",
        "!wget --no-check-certificate \\\n",
        "    \"https://download.microsoft.com/download/3/E/1/3E1C3F21-ECDB-4869-8368-6DEBA77B919F/kagglecatsanddogs_5340.zip\" \\\n",
        "    -O \"/tmp/cats-and-dogs.zip\"\n",
        "\n",
        "local_zip = '/tmp/cats-and-dogs.zip'\n",
        "zip_ref   = zipfile.ZipFile(local_zip, 'r')\n",
        "zip_ref.extractall('/tmp')\n",
        "zip_ref.close()"
      ],
      "id": "3sd9dQWa23aj"
    },
    {
      "cell_type": "markdown",
      "metadata": {
        "id": "e_HsUV9WVJHL"
      },
      "source": [
        "Now the images are stored within the `/tmp/PetImages` directory. There is a subdirectory for each class, so one for dogs and one for cats."
      ],
      "id": "e_HsUV9WVJHL"
    },
    {
      "cell_type": "code",
      "execution_count": 3,
      "metadata": {
        "id": "DM851ZmN28J3",
        "tags": [
          "graded"
        ],
        "colab": {
          "base_uri": "https://localhost:8080/"
        },
        "outputId": "f86e238d-479d-415d-862e-e8c5047f5690"
      },
      "outputs": [
        {
          "output_type": "stream",
          "name": "stdout",
          "text": [
            "There are 12500 images of dogs.\n",
            "There are 12500 images of cats.\n"
          ]
        }
      ],
      "source": [
        "source_path = '/tmp/PetImages'\n",
        "\n",
        "source_path_dogs = os.path.join(source_path, 'Dog')\n",
        "source_path_cats = os.path.join(source_path, 'Cat')\n",
        "\n",
        "# Deletes all non-image files (there are two .db files bundled into the dataset)\n",
        "!find /tmp/PetImages/ -type f ! -name \"*.jpg\" -exec rm {} +\n",
        "\n",
        "# os.listdir returns a list containing all files under the given path\n",
        "print(f\"There are {len(os.listdir(source_path_dogs))} images of dogs.\")\n",
        "print(f\"There are {len(os.listdir(source_path_cats))} images of cats.\")"
      ],
      "id": "DM851ZmN28J3"
    },
    {
      "cell_type": "markdown",
      "metadata": {
        "id": "G7dI86rmRGmC"
      },
      "source": [
        "**Expected Output:**\n",
        "\n",
        "```\n",
        "There are 12500 images of dogs.\n",
        "There are 12500 images of cats.\n",
        "```"
      ],
      "id": "G7dI86rmRGmC"
    },
    {
      "cell_type": "markdown",
      "metadata": {
        "id": "iFbMliudNIjW"
      },
      "source": [
        "You will need a directory for cats-v-dogs, and subdirectories for training\n",
        "and validation. These in turn will need subdirectories for 'cats' and 'dogs'. To accomplish this, complete the `create_train_val_dirs` below:"
      ],
      "id": "iFbMliudNIjW"
    },
    {
      "cell_type": "code",
      "execution_count": 4,
      "metadata": {
        "cellView": "code",
        "id": "F-QkLjxpmyK2",
        "tags": [
          "graded"
        ]
      },
      "outputs": [],
      "source": [
        "# Define root directory\n",
        "root_dir = '/tmp/cats-v-dogs'\n",
        "\n",
        "# Empty directory to prevent FileExistsError is the function is run several times\n",
        "if os.path.exists(root_dir):\n",
        "  shutil.rmtree(root_dir)\n",
        "\n",
        "# GRADED FUNCTION: create_train_val_dirs\n",
        "def create_train_val_dirs(root_path):\n",
        "  \"\"\"\n",
        "  Creates directories for the train and test sets\n",
        "  \n",
        "  Args:\n",
        "    root_path (string) - the base directory path to create subdirectories from\n",
        "  \n",
        "  Returns:\n",
        "    None\n",
        "  \"\"\"  \n",
        "\n",
        "  ### START CODE HERE\n",
        "\n",
        "  # HINT:\n",
        "  # Use os.makedirs to create your directories with intermediate subdirectories\n",
        "  # Don't hardcode the paths. Use os.path.join to append the new directories to the root_path parameter\n",
        "\n",
        "  os.makedirs(os.path.join(root_path,\"validation\"))\n",
        "  os.makedirs(os.path.join(root_path,\"training\"))\n",
        "  os.makedirs(os.path.join(root_path,\"validation/cats\"))\n",
        "  os.makedirs(os.path.join(root_path,\"training/cats\"))\n",
        "  os.makedirs(os.path.join(root_path,\"validation/dogs\"))\n",
        "  os.makedirs(os.path.join(root_path,\"training/dogs\"))\n",
        "  \n",
        "  ### END CODE HERE\n",
        "\n",
        "  \n",
        "try:\n",
        "  create_train_val_dirs(root_path=root_dir)\n",
        "except FileExistsError:\n",
        "  print(\"You should not be seeing this since the upper directory is removed beforehand\")"
      ],
      "id": "F-QkLjxpmyK2"
    },
    {
      "cell_type": "code",
      "execution_count": 5,
      "metadata": {
        "id": "5dhtL344OK00",
        "tags": [
          "graded"
        ],
        "colab": {
          "base_uri": "https://localhost:8080/"
        },
        "outputId": "4fe10626-a435-4717-8b89-978635076c83"
      },
      "outputs": [
        {
          "output_type": "stream",
          "name": "stdout",
          "text": [
            "/tmp/cats-v-dogs/training\n",
            "/tmp/cats-v-dogs/validation\n",
            "/tmp/cats-v-dogs/training/cats\n",
            "/tmp/cats-v-dogs/training/dogs\n",
            "/tmp/cats-v-dogs/validation/cats\n",
            "/tmp/cats-v-dogs/validation/dogs\n"
          ]
        }
      ],
      "source": [
        "# Test your create_train_val_dirs function\n",
        "\n",
        "for rootdir, dirs, files in os.walk(root_dir):\n",
        "    for subdir in dirs:\n",
        "        print(os.path.join(rootdir, subdir))"
      ],
      "id": "5dhtL344OK00"
    },
    {
      "cell_type": "markdown",
      "metadata": {
        "id": "D7A0RK3IQsvg"
      },
      "source": [
        "**Expected Output (directory order might vary):**\n",
        "\n",
        "``` txt\n",
        "/tmp/cats-v-dogs/training\n",
        "/tmp/cats-v-dogs/validation\n",
        "/tmp/cats-v-dogs/training/cats\n",
        "/tmp/cats-v-dogs/training/dogs\n",
        "/tmp/cats-v-dogs/validation/cats\n",
        "/tmp/cats-v-dogs/validation/dogs\n",
        "\n",
        "```"
      ],
      "id": "D7A0RK3IQsvg"
    },
    {
      "cell_type": "markdown",
      "metadata": {
        "id": "R93T7HdE5txZ"
      },
      "source": [
        "Code the `split_data` function which takes in the following arguments:\n",
        "- SOURCE_DIR: directory containing the files\n",
        "\n",
        "- TRAINING_DIR: directory that a portion of the files will be copied to (will be used for training)\n",
        "\n",
        "- VALIDATION_DIR: directory that a portion of the files will be copied to (will be used for validation)\n",
        "\n",
        "- SPLIT_SIZE: determines the portion of images used for training.\n",
        "\n",
        "The files should be randomized, so that the training set is a random sample of the files, and the validation set is made up of the remaining files.\n",
        "\n",
        "For example, if `SOURCE_DIR` is `PetImages/Cat`, and `SPLIT_SIZE` is .9 then 90% of the images in `PetImages/Cat` will be copied to the `TRAINING_DIR` directory\n",
        "and 10% of the images will be copied to the `VALIDATION_DIR` directory.\n",
        "\n",
        "All images should be checked before the copy, so if they have a zero file length, they will be omitted from the copying process. If this is the case then your function should print out a message such as `\"filename is zero length, so ignoring.\"`. **You should perform this check before the split so that only non-zero images are considered when doing the actual split.**\n",
        "\n",
        "\n",
        "Hints:\n",
        "\n",
        "- `os.listdir(DIRECTORY)` returns a list with the contents of that directory.\n",
        "\n",
        "- `os.path.getsize(PATH)` returns the size of the file\n",
        "\n",
        "- `copyfile(source, destination)` copies a file from source to destination\n",
        "\n",
        "- `random.sample(list, len(list))` shuffles a list"
      ],
      "id": "R93T7HdE5txZ"
    },
    {
      "cell_type": "code",
      "execution_count": 6,
      "metadata": {
        "cellView": "code",
        "id": "zvSODo0f9LaU",
        "tags": [
          "graded"
        ]
      },
      "outputs": [],
      "source": [
        "# GRADED FUNCTION: split_data\n",
        "def split_data(SOURCE_DIR, TRAINING_DIR, VALIDATION_DIR, SPLIT_SIZE):\n",
        "\n",
        "  \"\"\"\n",
        "  Splits the data into train and test sets\n",
        "  \n",
        "  Args:\n",
        "    SOURCE_DIR (string): directory path containing the images\n",
        "    TRAINING_DIR (string): directory path to be used for training\n",
        "    VALIDATION_DIR (string): directory path to be used for validation\n",
        "    SPLIT_SIZE (float): proportion of the dataset to be used for training\n",
        "    \n",
        "  Returns:\n",
        "    None\n",
        "  \"\"\"\n",
        "  ### START CODE HERE\n",
        "  files_to_shuffl = []\n",
        "  files_in_source_dir = os.listdir(SOURCE_DIR)\n",
        "  print(f\"{SOURCE_DIR}  contains {len(files_in_source_dir)} files \")\n",
        "\n",
        "  for f in files_in_source_dir :\n",
        "    if(os.path.getsize(os.path.join(SOURCE_DIR, f)) >0):\n",
        "      files_to_shuffl.append(f)\n",
        "    else:\n",
        "      print(f\"{f} is zero lenght, so ignoring.\")\n",
        "  \n",
        "  #randomize the images and create the 2 list \n",
        "  random.shuffle(files_to_shuffl)\n",
        "  #print(files_to_shuffl)\n",
        "  len_to_train = int(len(files_to_shuffl)*SPLIT_SIZE)\n",
        "  train_images = files_to_shuffl[:len_to_train]\n",
        "  validation_images = files_to_shuffl[len_to_train:]\n",
        "  print(f\"Images for training : {len(train_images) }, image for validation:  {len(validation_images)}\") \n",
        "  \n",
        "  #copy the files\n",
        "  for f in train_images:\n",
        "    shutil.copy(SOURCE_DIR+f, TRAINING_DIR+f)\n",
        "  for f in validation_images:\n",
        "    shutil.copy(SOURCE_DIR+f, VALIDATION_DIR+f)\n",
        "    \n",
        "  print(\"Files are copied successfully\")\n",
        "\n",
        "  ### END CODE HERE\n"
      ],
      "id": "zvSODo0f9LaU"
    },
    {
      "cell_type": "code",
      "execution_count": 7,
      "metadata": {
        "id": "FlIdoUeX9S-9",
        "tags": [
          "graded"
        ],
        "colab": {
          "base_uri": "https://localhost:8080/"
        },
        "outputId": "8b002014-afdd-4397-db48-5f31e14fc93c"
      },
      "outputs": [
        {
          "output_type": "stream",
          "name": "stdout",
          "text": [
            "/tmp/PetImages/Cat/  contains 12500 files \n",
            "666.jpg is zero lenght, so ignoring.\n",
            "Images for training : 11249, image for validation:  1250\n",
            "Files are copied successfully\n",
            "/tmp/PetImages/Dog/  contains 12500 files \n",
            "11702.jpg is zero lenght, so ignoring.\n",
            "Images for training : 11249, image for validation:  1250\n",
            "Files are copied successfully\n",
            "\n",
            "\n",
            "Original cat's directory has 12500 images\n",
            "Original dog's directory has 12500 images\n",
            "\n",
            "There are 11249 images of cats for training\n",
            "There are 11249 images of dogs for training\n",
            "There are 1250 images of cats for validation\n",
            "There are 1250 images of dogs for validation\n"
          ]
        }
      ],
      "source": [
        "# Test your split_data function\n",
        "\n",
        "# Define paths\n",
        "CAT_SOURCE_DIR = \"/tmp/PetImages/Cat/\"\n",
        "DOG_SOURCE_DIR = \"/tmp/PetImages/Dog/\"\n",
        "\n",
        "TRAINING_DIR = \"/tmp/cats-v-dogs/training/\"\n",
        "VALIDATION_DIR = \"/tmp/cats-v-dogs/validation/\"\n",
        "\n",
        "TRAINING_CATS_DIR = os.path.join(TRAINING_DIR, \"cats/\")\n",
        "VALIDATION_CATS_DIR = os.path.join(VALIDATION_DIR, \"cats/\")\n",
        "\n",
        "TRAINING_DOGS_DIR = os.path.join(TRAINING_DIR, \"dogs/\")\n",
        "VALIDATION_DOGS_DIR = os.path.join(VALIDATION_DIR, \"dogs/\")\n",
        "\n",
        "# Empty directories in case you run this cell multiple times\n",
        "if len(os.listdir(TRAINING_CATS_DIR)) > 0:\n",
        "  for file in os.scandir(TRAINING_CATS_DIR):\n",
        "    os.remove(file.path)\n",
        "if len(os.listdir(TRAINING_DOGS_DIR)) > 0:\n",
        "  for file in os.scandir(TRAINING_DOGS_DIR):\n",
        "    os.remove(file.path)\n",
        "if len(os.listdir(VALIDATION_CATS_DIR)) > 0:\n",
        "  for file in os.scandir(VALIDATION_CATS_DIR):\n",
        "    os.remove(file.path)\n",
        "if len(os.listdir(VALIDATION_DOGS_DIR)) > 0:\n",
        "  for file in os.scandir(VALIDATION_DOGS_DIR):\n",
        "    os.remove(file.path)\n",
        "\n",
        "# Define proportion of images used for training\n",
        "split_size = .9\n",
        "\n",
        "# Run the function\n",
        "# NOTE: Messages about zero length images should be printed out\n",
        "split_data(CAT_SOURCE_DIR, TRAINING_CATS_DIR, VALIDATION_CATS_DIR, split_size)\n",
        "split_data(DOG_SOURCE_DIR, TRAINING_DOGS_DIR, VALIDATION_DOGS_DIR, split_size)\n",
        "\n",
        "# Your function should perform copies rather than moving images so original directories should contain unchanged images\n",
        "print(f\"\\n\\nOriginal cat's directory has {len(os.listdir(CAT_SOURCE_DIR))} images\")\n",
        "print(f\"Original dog's directory has {len(os.listdir(DOG_SOURCE_DIR))} images\\n\")\n",
        "\n",
        "# Training and validation splits. Check that the number of images matches the expected output.\n",
        "print(f\"There are {len(os.listdir(TRAINING_CATS_DIR))} images of cats for training\")\n",
        "print(f\"There are {len(os.listdir(TRAINING_DOGS_DIR))} images of dogs for training\")\n",
        "print(f\"There are {len(os.listdir(VALIDATION_CATS_DIR))} images of cats for validation\")\n",
        "print(f\"There are {len(os.listdir(VALIDATION_DOGS_DIR))} images of dogs for validation\")"
      ],
      "id": "FlIdoUeX9S-9"
    },
    {
      "cell_type": "markdown",
      "metadata": {
        "id": "hvskJNOFVSaz"
      },
      "source": [
        "**Expected Output:**\n",
        "\n",
        "```\n",
        "666.jpg is zero length, so ignoring.\n",
        "11702.jpg is zero length, so ignoring.\n",
        "\n",
        "\n",
        "Original cat's directory has 12500 images\n",
        "Original dog's directory has 12500 images\n",
        "\n",
        "There are 11249 images of cats for training\n",
        "There are 11249 images of dogs for training\n",
        "There are 1250 images of cats for validation\n",
        "There are 1250 images of dogs for validation\n",
        "```"
      ],
      "id": "hvskJNOFVSaz"
    },
    {
      "cell_type": "markdown",
      "metadata": {
        "id": "Zil4QmOD_mXF"
      },
      "source": [
        "Now that you have successfully organized the data in a way that can be easily fed to Keras' `ImageDataGenerator`, it is time for you to code the generators that will yield batches of images, both for training and validation. For this, complete the `train_val_generators` function below.\n",
        "\n",
        "Something important to note is that the images in this dataset come in a variety of resolutions. Luckily, the `flow_from_directory` method allows you to standarize this by defining a tuple called `target_size` that will be used to convert each image to this target resolution. **For this exercise use a `target_size` of (150, 150)**."
      ],
      "id": "Zil4QmOD_mXF"
    },
    {
      "cell_type": "code",
      "execution_count": 15,
      "metadata": {
        "cellView": "code",
        "id": "fQrZfVgz4j2g",
        "tags": [
          "graded"
        ]
      },
      "outputs": [],
      "source": [
        "# GRADED FUNCTION: train_val_generators\n",
        "def train_val_generators(TRAINING_DIR, VALIDATION_DIR):\n",
        "  \"\"\"\n",
        "  Creates the training and validation data generators\n",
        "  \n",
        "  Args:\n",
        "    TRAINING_DIR (string): directory path containing the training images\n",
        "    VALIDATION_DIR (string): directory path containing the testing/validation images\n",
        "    \n",
        "  Returns:\n",
        "    train_generator, validation_generator - tuple containing the generators\n",
        "  \"\"\"\n",
        "  ### START CODE HERE\n",
        "\n",
        "  # Instantiate the ImageDataGenerator class (don't forget to set the arguments to augment the images)\n",
        "  train_datagen = ImageDataGenerator(rescale=1./255,\n",
        "                                     rotation_range=40,\n",
        "                                     width_shift_range=0.2,\n",
        "                                     height_shift_range=0.2,\n",
        "                                     shear_range=0.2,\n",
        "                                     zoom_range=0.2,\n",
        "                                     horizontal_flip=True,\n",
        "                                     fill_mode='nearest')\n",
        "\n",
        "  # Pass in the appropriate arguments to the flow_from_directory method\n",
        "  train_generator = train_datagen.flow_from_directory(directory=TRAINING_DIR, # This is the source directory for training images\n",
        "                                                      batch_size=20, \n",
        "                                                      class_mode='binary',\n",
        "                                                      target_size=(150, 150))\n",
        "\n",
        "  # Instantiate the ImageDataGenerator class (don't forget to set the rescale argument)\n",
        "  validation_datagen = ImageDataGenerator(rescale= 1./255)\n",
        "\n",
        "  # Pass in the appropriate arguments to the flow_from_directory method\n",
        "  validation_generator = validation_datagen.flow_from_directory(directory=VALIDATION_DIR,\n",
        "                                                                batch_size=20,\n",
        "                                                                class_mode='binary',\n",
        "                                                                target_size=(150, 150))\n",
        "  ### END CODE HERE\n",
        "  return train_generator, validation_generator\n"
      ],
      "id": "fQrZfVgz4j2g"
    },
    {
      "cell_type": "code",
      "execution_count": 16,
      "metadata": {
        "id": "qM7FxrjGiobD",
        "tags": [
          "graded"
        ],
        "colab": {
          "base_uri": "https://localhost:8080/"
        },
        "outputId": "abaa7631-d244-4013-82f4-8e45d7e818bb"
      },
      "outputs": [
        {
          "output_type": "stream",
          "name": "stdout",
          "text": [
            "Found 22498 images belonging to 2 classes.\n",
            "Found 2500 images belonging to 2 classes.\n"
          ]
        }
      ],
      "source": [
        "# Test your generators\n",
        "train_generator, validation_generator = train_val_generators(TRAINING_DIR, VALIDATION_DIR)"
      ],
      "id": "qM7FxrjGiobD"
    },
    {
      "cell_type": "markdown",
      "metadata": {
        "id": "tiPNmSfZjHwJ"
      },
      "source": [
        "**Expected Output:**\n",
        "\n",
        "```\n",
        "Found 22498 images belonging to 2 classes.\n",
        "Found 2500 images belonging to 2 classes.\n",
        "```\n"
      ],
      "id": "tiPNmSfZjHwJ"
    },
    {
      "cell_type": "markdown",
      "metadata": {
        "id": "TI3oEmyQCZoO"
      },
      "source": [
        "One last step before training is to define the architecture of the model that will be trained.\n",
        "\n",
        "Complete the `create_model` function below which should return a Keras' `Sequential` model.\n",
        "\n",
        "Aside from defining the architecture of the model, you should also compile it so make sure to use a `loss` function that is compatible with the `class_mode` you defined in the previous exercise, which should also be compatible with the output of your network. You can tell if they aren't compatible if you get an error during training.\n",
        "\n",
        "**Note that you should use at least 3 convolution layers to achieve the desired performance.**"
      ],
      "id": "TI3oEmyQCZoO"
    },
    {
      "cell_type": "code",
      "execution_count": 17,
      "metadata": {
        "cellView": "code",
        "id": "oDPK8tUB_O9e",
        "lines_to_next_cell": 2,
        "tags": [
          "graded"
        ]
      },
      "outputs": [],
      "source": [
        "# GRADED FUNCTION: create_model\n",
        "def create_model():\n",
        "  # DEFINE A KERAS MODEL TO CLASSIFY CATS V DOGS\n",
        "  # USE AT LEAST 3 CONVOLUTION LAYERS\n",
        "\n",
        "  ### START CODE HERE\n",
        "\n",
        "  model = tf.keras.models.Sequential([\n",
        "      tf.keras.layers.Conv2D(32, (3,3), activation='relu', input_shape=(150, 150, 3)),\n",
        "      tf.keras.layers.MaxPooling2D(2, 2),\n",
        "      tf.keras.layers.Conv2D(64, (3,3), activation='relu'),\n",
        "      tf.keras.layers.MaxPooling2D(2,2),\n",
        "      tf.keras.layers.Conv2D(128, (3,3), activation='relu'),\n",
        "      tf.keras.layers.MaxPooling2D(2,2),\n",
        "      tf.keras.layers.Conv2D(128, (3,3), activation='relu'),\n",
        "      tf.keras.layers.MaxPooling2D(2,2),\n",
        "      tf.keras.layers.Flatten(),\n",
        "      tf.keras.layers.Dense(512, activation='relu'),\n",
        "      tf.keras.layers.Dense(1, activation='sigmoid')\n",
        "  ])\n",
        "\n",
        "  \n",
        "  model.compile(optimizer=tf.keras.optimizers.RMSprop(learning_rate=1e-4),\n",
        "                loss='binary_crossentropy',\n",
        "                metrics=['accuracy']) \n",
        "    \n",
        "  ### END CODE HERE\n",
        "\n",
        "  return model\n"
      ],
      "id": "oDPK8tUB_O9e"
    },
    {
      "cell_type": "markdown",
      "metadata": {
        "id": "SMFNJZmTCZv6"
      },
      "source": [
        "Now it is time to train your model!\n",
        "\n",
        "Note: You can ignore the `UserWarning: Possibly corrupt EXIF data.` warnings."
      ],
      "id": "SMFNJZmTCZv6"
    },
    {
      "cell_type": "code",
      "source": [
        "# Get the untrained model\n",
        "model = create_model()\n",
        "model.summary()"
      ],
      "metadata": {
        "colab": {
          "base_uri": "https://localhost:8080/"
        },
        "id": "C3pIxO_UKHex",
        "outputId": "ccf3bf82-0e48-47a6-a9d9-ff66d268940e"
      },
      "id": "C3pIxO_UKHex",
      "execution_count": 18,
      "outputs": [
        {
          "output_type": "stream",
          "name": "stdout",
          "text": [
            "Model: \"sequential_1\"\n",
            "_________________________________________________________________\n",
            " Layer (type)                Output Shape              Param #   \n",
            "=================================================================\n",
            " conv2d_4 (Conv2D)           (None, 148, 148, 32)      896       \n",
            "                                                                 \n",
            " max_pooling2d_4 (MaxPooling  (None, 74, 74, 32)       0         \n",
            " 2D)                                                             \n",
            "                                                                 \n",
            " conv2d_5 (Conv2D)           (None, 72, 72, 64)        18496     \n",
            "                                                                 \n",
            " max_pooling2d_5 (MaxPooling  (None, 36, 36, 64)       0         \n",
            " 2D)                                                             \n",
            "                                                                 \n",
            " conv2d_6 (Conv2D)           (None, 34, 34, 128)       73856     \n",
            "                                                                 \n",
            " max_pooling2d_6 (MaxPooling  (None, 17, 17, 128)      0         \n",
            " 2D)                                                             \n",
            "                                                                 \n",
            " conv2d_7 (Conv2D)           (None, 15, 15, 128)       147584    \n",
            "                                                                 \n",
            " max_pooling2d_7 (MaxPooling  (None, 7, 7, 128)        0         \n",
            " 2D)                                                             \n",
            "                                                                 \n",
            " flatten_1 (Flatten)         (None, 6272)              0         \n",
            "                                                                 \n",
            " dense_2 (Dense)             (None, 512)               3211776   \n",
            "                                                                 \n",
            " dense_3 (Dense)             (None, 1)                 513       \n",
            "                                                                 \n",
            "=================================================================\n",
            "Total params: 3,453,121\n",
            "Trainable params: 3,453,121\n",
            "Non-trainable params: 0\n",
            "_________________________________________________________________\n"
          ]
        }
      ]
    },
    {
      "cell_type": "code",
      "execution_count": 21,
      "metadata": {
        "id": "5qE1G6JB4fMn",
        "tags": [],
        "colab": {
          "base_uri": "https://localhost:8080/"
        },
        "outputId": "a21c02cb-7dcf-40f9-90bb-f5bdcea4d2db"
      },
      "outputs": [
        {
          "output_type": "stream",
          "name": "stdout",
          "text": [
            "Epoch 1/100\n",
            "100/100 [==============================] - 18s 176ms/step - loss: 0.6924 - accuracy: 0.5140 - val_loss: 0.6818 - val_accuracy: 0.5200\n",
            "Epoch 2/100\n",
            "100/100 [==============================] - 17s 174ms/step - loss: 0.6780 - accuracy: 0.5700 - val_loss: 0.6691 - val_accuracy: 0.5730\n",
            "Epoch 3/100\n",
            "100/100 [==============================] - 17s 173ms/step - loss: 0.6686 - accuracy: 0.5860 - val_loss: 0.6964 - val_accuracy: 0.5630\n",
            "Epoch 4/100\n",
            "100/100 [==============================] - 17s 173ms/step - loss: 0.6520 - accuracy: 0.6250 - val_loss: 0.6205 - val_accuracy: 0.6400\n",
            "Epoch 5/100\n",
            "100/100 [==============================] - 17s 174ms/step - loss: 0.6554 - accuracy: 0.6090 - val_loss: 0.6203 - val_accuracy: 0.6530\n",
            "Epoch 6/100\n",
            "100/100 [==============================] - 17s 174ms/step - loss: 0.6273 - accuracy: 0.6600 - val_loss: 0.6093 - val_accuracy: 0.6580\n",
            "Epoch 7/100\n",
            "100/100 [==============================] - 17s 175ms/step - loss: 0.6213 - accuracy: 0.6515 - val_loss: 0.6163 - val_accuracy: 0.6630\n",
            "Epoch 8/100\n",
            "100/100 [==============================] - 17s 173ms/step - loss: 0.6145 - accuracy: 0.6630 - val_loss: 0.6003 - val_accuracy: 0.6530\n",
            "Epoch 9/100\n",
            "100/100 [==============================] - 17s 173ms/step - loss: 0.6203 - accuracy: 0.6465 - val_loss: 0.5818 - val_accuracy: 0.7010\n",
            "Epoch 10/100\n",
            "100/100 [==============================] - 17s 173ms/step - loss: 0.6153 - accuracy: 0.6690 - val_loss: 0.5558 - val_accuracy: 0.7010\n",
            "Epoch 11/100\n",
            "100/100 [==============================] - 17s 173ms/step - loss: 0.6003 - accuracy: 0.6710 - val_loss: 0.5804 - val_accuracy: 0.6830\n",
            "Epoch 12/100\n",
            "100/100 [==============================] - 17s 173ms/step - loss: 0.5860 - accuracy: 0.6910 - val_loss: 0.5644 - val_accuracy: 0.7110\n",
            "Epoch 13/100\n",
            "100/100 [==============================] - 17s 173ms/step - loss: 0.5954 - accuracy: 0.6705 - val_loss: 0.5467 - val_accuracy: 0.7130\n",
            "Epoch 14/100\n",
            "100/100 [==============================] - 17s 173ms/step - loss: 0.5997 - accuracy: 0.6860 - val_loss: 0.5681 - val_accuracy: 0.6880\n",
            "Epoch 15/100\n",
            "100/100 [==============================] - 17s 173ms/step - loss: 0.5973 - accuracy: 0.6745 - val_loss: 0.5511 - val_accuracy: 0.7300\n",
            "Epoch 16/100\n",
            "100/100 [==============================] - 17s 172ms/step - loss: 0.5997 - accuracy: 0.6680 - val_loss: 0.5269 - val_accuracy: 0.7430\n",
            "Epoch 17/100\n",
            "100/100 [==============================] - 17s 174ms/step - loss: 0.5870 - accuracy: 0.6905 - val_loss: 0.5570 - val_accuracy: 0.7070\n",
            "Epoch 18/100\n",
            "100/100 [==============================] - 17s 173ms/step - loss: 0.5835 - accuracy: 0.6760 - val_loss: 0.5845 - val_accuracy: 0.6580\n",
            "Epoch 19/100\n",
            "100/100 [==============================] - 17s 173ms/step - loss: 0.5509 - accuracy: 0.7095 - val_loss: 0.6713 - val_accuracy: 0.6400\n",
            "Epoch 20/100\n",
            "100/100 [==============================] - 17s 173ms/step - loss: 0.5598 - accuracy: 0.7105 - val_loss: 0.6438 - val_accuracy: 0.6370\n",
            "Epoch 21/100\n",
            "100/100 [==============================] - 17s 173ms/step - loss: 0.5639 - accuracy: 0.6987 - val_loss: 0.5667 - val_accuracy: 0.6910\n",
            "Epoch 22/100\n",
            "100/100 [==============================] - 17s 174ms/step - loss: 0.5608 - accuracy: 0.7100 - val_loss: 0.5391 - val_accuracy: 0.7290\n",
            "Epoch 23/100\n",
            "100/100 [==============================] - 17s 172ms/step - loss: 0.5525 - accuracy: 0.7295 - val_loss: 0.5357 - val_accuracy: 0.7280\n",
            "Epoch 24/100\n",
            "100/100 [==============================] - 17s 174ms/step - loss: 0.5595 - accuracy: 0.7155 - val_loss: 0.5054 - val_accuracy: 0.7410\n",
            "Epoch 25/100\n",
            "100/100 [==============================] - 17s 174ms/step - loss: 0.5653 - accuracy: 0.7020 - val_loss: 0.5608 - val_accuracy: 0.6890\n",
            "Epoch 26/100\n",
            "100/100 [==============================] - 17s 174ms/step - loss: 0.5414 - accuracy: 0.7210 - val_loss: 0.4802 - val_accuracy: 0.7580\n",
            "Epoch 27/100\n",
            "100/100 [==============================] - 17s 173ms/step - loss: 0.5637 - accuracy: 0.7105 - val_loss: 0.5041 - val_accuracy: 0.7600\n",
            "Epoch 28/100\n",
            "100/100 [==============================] - 17s 174ms/step - loss: 0.5513 - accuracy: 0.7130 - val_loss: 0.5129 - val_accuracy: 0.7380\n",
            "Epoch 29/100\n",
            "100/100 [==============================] - 17s 174ms/step - loss: 0.5359 - accuracy: 0.7410 - val_loss: 0.4747 - val_accuracy: 0.7640\n",
            "Epoch 30/100\n",
            "100/100 [==============================] - 17s 173ms/step - loss: 0.5408 - accuracy: 0.7250 - val_loss: 0.5989 - val_accuracy: 0.6880\n",
            "Epoch 31/100\n",
            "100/100 [==============================] - 17s 173ms/step - loss: 0.5304 - accuracy: 0.7385 - val_loss: 0.4525 - val_accuracy: 0.7850\n",
            "Epoch 32/100\n",
            "100/100 [==============================] - 17s 173ms/step - loss: 0.5170 - accuracy: 0.7425 - val_loss: 0.5149 - val_accuracy: 0.7580\n",
            "Epoch 33/100\n",
            "100/100 [==============================] - 17s 174ms/step - loss: 0.5393 - accuracy: 0.7315 - val_loss: 0.4728 - val_accuracy: 0.7810\n",
            "Epoch 34/100\n",
            "100/100 [==============================] - 17s 173ms/step - loss: 0.5547 - accuracy: 0.7210 - val_loss: 0.4842 - val_accuracy: 0.7640\n",
            "Epoch 35/100\n",
            "100/100 [==============================] - 17s 174ms/step - loss: 0.5211 - accuracy: 0.7510 - val_loss: 0.4786 - val_accuracy: 0.7760\n",
            "Epoch 36/100\n",
            "100/100 [==============================] - 17s 174ms/step - loss: 0.5175 - accuracy: 0.7435 - val_loss: 0.4709 - val_accuracy: 0.7810\n",
            "Epoch 37/100\n",
            "100/100 [==============================] - 17s 173ms/step - loss: 0.5099 - accuracy: 0.7490 - val_loss: 0.5121 - val_accuracy: 0.7590\n",
            "Epoch 38/100\n",
            "100/100 [==============================] - 17s 174ms/step - loss: 0.5173 - accuracy: 0.7405 - val_loss: 0.4887 - val_accuracy: 0.7630\n",
            "Epoch 39/100\n",
            "100/100 [==============================] - 17s 173ms/step - loss: 0.5280 - accuracy: 0.7365 - val_loss: 0.4583 - val_accuracy: 0.7780\n",
            "Epoch 40/100\n",
            "100/100 [==============================] - 17s 173ms/step - loss: 0.5148 - accuracy: 0.7518 - val_loss: 0.4616 - val_accuracy: 0.7790\n",
            "Epoch 41/100\n",
            "100/100 [==============================] - 17s 173ms/step - loss: 0.5006 - accuracy: 0.7700 - val_loss: 0.4675 - val_accuracy: 0.7860\n",
            "Epoch 42/100\n",
            "100/100 [==============================] - 17s 173ms/step - loss: 0.5025 - accuracy: 0.7610 - val_loss: 0.4778 - val_accuracy: 0.7740\n",
            "Epoch 43/100\n",
            "100/100 [==============================] - 17s 174ms/step - loss: 0.4960 - accuracy: 0.7545 - val_loss: 0.4636 - val_accuracy: 0.7900\n",
            "Epoch 44/100\n",
            "100/100 [==============================] - 17s 173ms/step - loss: 0.5195 - accuracy: 0.7490 - val_loss: 0.4286 - val_accuracy: 0.8080\n",
            "Epoch 45/100\n",
            "100/100 [==============================] - 17s 173ms/step - loss: 0.5024 - accuracy: 0.7515 - val_loss: 0.5063 - val_accuracy: 0.7630\n",
            "Epoch 46/100\n",
            "100/100 [==============================] - 17s 173ms/step - loss: 0.4975 - accuracy: 0.7460 - val_loss: 0.4796 - val_accuracy: 0.8020\n",
            "Epoch 47/100\n",
            "100/100 [==============================] - 17s 173ms/step - loss: 0.4948 - accuracy: 0.7655 - val_loss: 0.4378 - val_accuracy: 0.8020\n",
            "Epoch 48/100\n",
            "100/100 [==============================] - 17s 173ms/step - loss: 0.5038 - accuracy: 0.7520 - val_loss: 0.4847 - val_accuracy: 0.7660\n",
            "Epoch 49/100\n",
            "100/100 [==============================] - 17s 173ms/step - loss: 0.5056 - accuracy: 0.7610 - val_loss: 0.5106 - val_accuracy: 0.7530\n",
            "Epoch 50/100\n",
            "100/100 [==============================] - 17s 174ms/step - loss: 0.5089 - accuracy: 0.7520 - val_loss: 0.4645 - val_accuracy: 0.7810\n",
            "Epoch 51/100\n",
            "100/100 [==============================] - 17s 173ms/step - loss: 0.5069 - accuracy: 0.7573 - val_loss: 0.4418 - val_accuracy: 0.7950\n",
            "Epoch 52/100\n",
            "100/100 [==============================] - 17s 174ms/step - loss: 0.4964 - accuracy: 0.7525 - val_loss: 0.4123 - val_accuracy: 0.8140\n",
            "Epoch 53/100\n",
            "100/100 [==============================] - 17s 174ms/step - loss: 0.4919 - accuracy: 0.7735 - val_loss: 0.5046 - val_accuracy: 0.7660\n",
            "Epoch 54/100\n",
            "100/100 [==============================] - 17s 173ms/step - loss: 0.4890 - accuracy: 0.7645 - val_loss: 0.4331 - val_accuracy: 0.7950\n",
            "Epoch 55/100\n",
            "100/100 [==============================] - 17s 174ms/step - loss: 0.4815 - accuracy: 0.7685 - val_loss: 0.4546 - val_accuracy: 0.7830\n",
            "Epoch 56/100\n",
            "100/100 [==============================] - 17s 173ms/step - loss: 0.4786 - accuracy: 0.7735 - val_loss: 0.4518 - val_accuracy: 0.7990\n",
            "Epoch 57/100\n",
            "100/100 [==============================] - 17s 174ms/step - loss: 0.4890 - accuracy: 0.7615 - val_loss: 0.4277 - val_accuracy: 0.7950\n",
            "Epoch 58/100\n",
            "100/100 [==============================] - 17s 173ms/step - loss: 0.4864 - accuracy: 0.7635 - val_loss: 0.4339 - val_accuracy: 0.7940\n",
            "Epoch 59/100\n",
            "100/100 [==============================] - 17s 173ms/step - loss: 0.4912 - accuracy: 0.7560 - val_loss: 0.4107 - val_accuracy: 0.8070\n",
            "Epoch 60/100\n",
            "100/100 [==============================] - 17s 174ms/step - loss: 0.5061 - accuracy: 0.7640 - val_loss: 0.4436 - val_accuracy: 0.7880\n",
            "Epoch 61/100\n",
            "100/100 [==============================] - 17s 173ms/step - loss: 0.4867 - accuracy: 0.7720 - val_loss: 0.4709 - val_accuracy: 0.7820\n",
            "Epoch 62/100\n",
            "100/100 [==============================] - 17s 174ms/step - loss: 0.4779 - accuracy: 0.7695 - val_loss: 0.4352 - val_accuracy: 0.7940\n",
            "Epoch 63/100\n",
            "100/100 [==============================] - 17s 173ms/step - loss: 0.4826 - accuracy: 0.7665 - val_loss: 0.4201 - val_accuracy: 0.8100\n",
            "Epoch 64/100\n",
            "100/100 [==============================] - 17s 173ms/step - loss: 0.4635 - accuracy: 0.7785 - val_loss: 0.4199 - val_accuracy: 0.8100\n",
            "Epoch 65/100\n",
            "100/100 [==============================] - 17s 173ms/step - loss: 0.4678 - accuracy: 0.7770 - val_loss: 0.4674 - val_accuracy: 0.7790\n",
            "Epoch 66/100\n",
            "100/100 [==============================] - 17s 173ms/step - loss: 0.4704 - accuracy: 0.7820 - val_loss: 0.4567 - val_accuracy: 0.7790\n",
            "Epoch 67/100\n",
            "100/100 [==============================] - 17s 173ms/step - loss: 0.4718 - accuracy: 0.7710 - val_loss: 0.4636 - val_accuracy: 0.7860\n",
            "Epoch 68/100\n",
            "100/100 [==============================] - 17s 174ms/step - loss: 0.4684 - accuracy: 0.7750 - val_loss: 0.4646 - val_accuracy: 0.7760\n",
            "Epoch 69/100\n",
            "100/100 [==============================] - 17s 173ms/step - loss: 0.4776 - accuracy: 0.7708 - val_loss: 0.3998 - val_accuracy: 0.8140\n",
            "Epoch 70/100\n",
            "100/100 [==============================] - 17s 174ms/step - loss: 0.4788 - accuracy: 0.7585 - val_loss: 0.3857 - val_accuracy: 0.8240\n",
            "Epoch 71/100\n",
            "100/100 [==============================] - 17s 173ms/step - loss: 0.4531 - accuracy: 0.7815 - val_loss: 0.4450 - val_accuracy: 0.7890\n",
            "Epoch 72/100\n",
            "100/100 [==============================] - 17s 173ms/step - loss: 0.4717 - accuracy: 0.7780 - val_loss: 0.4176 - val_accuracy: 0.8130\n",
            "Epoch 73/100\n",
            "100/100 [==============================] - 17s 174ms/step - loss: 0.4792 - accuracy: 0.7690 - val_loss: 0.4150 - val_accuracy: 0.8160\n",
            "Epoch 74/100\n",
            "100/100 [==============================] - 17s 173ms/step - loss: 0.4617 - accuracy: 0.7865 - val_loss: 0.4036 - val_accuracy: 0.8170\n",
            "Epoch 75/100\n",
            "100/100 [==============================] - 17s 173ms/step - loss: 0.4560 - accuracy: 0.7830 - val_loss: 0.4225 - val_accuracy: 0.7990\n",
            "Epoch 76/100\n",
            "100/100 [==============================] - 17s 173ms/step - loss: 0.4723 - accuracy: 0.7625 - val_loss: 0.4585 - val_accuracy: 0.7870\n",
            "Epoch 77/100\n",
            "100/100 [==============================] - 17s 173ms/step - loss: 0.4620 - accuracy: 0.7785 - val_loss: 0.3870 - val_accuracy: 0.8250\n",
            "Epoch 78/100\n",
            "100/100 [==============================] - 17s 174ms/step - loss: 0.4455 - accuracy: 0.7920 - val_loss: 0.3844 - val_accuracy: 0.8370\n",
            "Epoch 79/100\n",
            "100/100 [==============================] - 17s 174ms/step - loss: 0.4347 - accuracy: 0.8035 - val_loss: 0.4805 - val_accuracy: 0.7690\n",
            "Epoch 80/100\n",
            "100/100 [==============================] - 17s 173ms/step - loss: 0.4552 - accuracy: 0.7865 - val_loss: 0.4169 - val_accuracy: 0.8100\n",
            "Epoch 81/100\n",
            "100/100 [==============================] - 17s 173ms/step - loss: 0.4523 - accuracy: 0.7910 - val_loss: 0.3848 - val_accuracy: 0.8260\n",
            "Epoch 82/100\n",
            "100/100 [==============================] - 17s 174ms/step - loss: 0.4312 - accuracy: 0.8035 - val_loss: 0.3888 - val_accuracy: 0.8320\n",
            "Epoch 83/100\n",
            "100/100 [==============================] - 17s 173ms/step - loss: 0.4637 - accuracy: 0.7705 - val_loss: 0.4189 - val_accuracy: 0.8110\n",
            "Epoch 84/100\n",
            "100/100 [==============================] - 17s 173ms/step - loss: 0.4370 - accuracy: 0.7955 - val_loss: 0.3979 - val_accuracy: 0.8200\n",
            "Epoch 85/100\n",
            "100/100 [==============================] - 17s 172ms/step - loss: 0.4453 - accuracy: 0.7975 - val_loss: 0.4174 - val_accuracy: 0.7960\n",
            "Epoch 86/100\n",
            "100/100 [==============================] - 17s 172ms/step - loss: 0.4543 - accuracy: 0.7905 - val_loss: 0.3608 - val_accuracy: 0.8500\n",
            "Epoch 87/100\n",
            "100/100 [==============================] - 17s 173ms/step - loss: 0.4513 - accuracy: 0.7925 - val_loss: 0.3933 - val_accuracy: 0.8230\n",
            "Epoch 88/100\n",
            "100/100 [==============================] - 17s 173ms/step - loss: 0.4402 - accuracy: 0.7925 - val_loss: 0.3783 - val_accuracy: 0.8350\n",
            "Epoch 89/100\n",
            "100/100 [==============================] - 17s 173ms/step - loss: 0.4677 - accuracy: 0.7685 - val_loss: 0.4208 - val_accuracy: 0.8040\n",
            "Epoch 90/100\n",
            "100/100 [==============================] - 17s 174ms/step - loss: 0.4382 - accuracy: 0.7975 - val_loss: 0.3730 - val_accuracy: 0.8360\n",
            "Epoch 91/100\n",
            "100/100 [==============================] - 17s 173ms/step - loss: 0.4291 - accuracy: 0.8115 - val_loss: 0.4203 - val_accuracy: 0.7870\n",
            "Epoch 92/100\n",
            "100/100 [==============================] - 17s 173ms/step - loss: 0.4680 - accuracy: 0.7840 - val_loss: 0.3797 - val_accuracy: 0.8330\n",
            "Epoch 93/100\n",
            "100/100 [==============================] - 17s 173ms/step - loss: 0.4438 - accuracy: 0.7968 - val_loss: 0.4164 - val_accuracy: 0.8180\n",
            "Epoch 94/100\n",
            "100/100 [==============================] - 17s 173ms/step - loss: 0.4355 - accuracy: 0.7885 - val_loss: 0.3676 - val_accuracy: 0.8250\n",
            "Epoch 95/100\n",
            "100/100 [==============================] - 17s 174ms/step - loss: 0.4201 - accuracy: 0.7990 - val_loss: 0.3900 - val_accuracy: 0.8290\n",
            "Epoch 96/100\n",
            "100/100 [==============================] - 17s 173ms/step - loss: 0.4287 - accuracy: 0.8000 - val_loss: 0.3843 - val_accuracy: 0.8400\n",
            "Epoch 97/100\n",
            "100/100 [==============================] - 17s 174ms/step - loss: 0.4448 - accuracy: 0.7935 - val_loss: 0.3673 - val_accuracy: 0.8280\n",
            "Epoch 98/100\n",
            "100/100 [==============================] - 17s 174ms/step - loss: 0.4258 - accuracy: 0.8055 - val_loss: 0.3733 - val_accuracy: 0.8300\n",
            "Epoch 99/100\n",
            "100/100 [==============================] - 17s 172ms/step - loss: 0.4344 - accuracy: 0.7913 - val_loss: 0.4289 - val_accuracy: 0.8210\n",
            "Epoch 100/100\n",
            "100/100 [==============================] - 17s 173ms/step - loss: 0.4322 - accuracy: 0.7960 - val_loss: 0.3602 - val_accuracy: 0.8460\n"
          ]
        }
      ],
      "source": [
        "\n",
        "\n",
        "# Train the model\n",
        "# Note that this may take some time.\n",
        "history = model.fit(train_generator,\n",
        "                    epochs=100,\n",
        "                    steps_per_epoch=100,\n",
        "                    verbose=1,\n",
        "                    validation_steps=50,\n",
        "                    validation_data=validation_generator)"
      ],
      "id": "5qE1G6JB4fMn"
    },
    {
      "cell_type": "markdown",
      "metadata": {
        "id": "VGsaDMc-GMd4"
      },
      "source": [
        "Once training has finished, you can run the following cell to check the training and validation accuracy achieved at the end of each epoch.\n",
        "\n",
        "**To pass this assignment, your model should achieve a training and validation accuracy of at least 80% and the final testing accuracy should be either higher than the training one or have a 5% difference at maximum**. If your model didn't achieve these thresholds, try training again with a different model architecture, remember to use at least 3 convolutional layers or try tweaking the image augmentation process.\n",
        "\n",
        "You might wonder why the training threshold to pass this assignment is significantly lower compared to last week's assignment. Image augmentation does help with overfitting but usually this comes at the expense of requiring more training time. To keep the training time reasonable, the same number of epochs as in the previous assignment are kept. \n",
        "\n",
        "However, as an optional exercise you are encouraged to try training for more epochs and to achieve really good training and validation accuracies."
      ],
      "id": "VGsaDMc-GMd4"
    },
    {
      "cell_type": "code",
      "source": [
        "import matplotlib.pyplot as plt\n",
        "\n",
        "def plot_loss_acc(history):\n",
        "  '''Plots the training and validation loss and accuracy from a history object'''\n",
        "  acc = history.history['accuracy']\n",
        "  val_acc = history.history['val_accuracy']\n",
        "  loss = history.history['loss']\n",
        "  val_loss = history.history['val_loss']\n",
        "\n",
        "  epochs = range(len(acc))\n",
        "  plt.ylim([0,1]) \n",
        "  plt.grid(True)\n",
        "  plt.plot(epochs, acc, 'bo', label='Training accuracy')\n",
        "  plt.plot(epochs, val_acc, 'b', label='Validation accuracy')\n",
        "  plt.title('Training and validation accuracy')\n",
        "\n",
        "  plt.figure()\n",
        "  plt.ylim([0,1]) \n",
        "  plt.grid(True)\n",
        "  plt.plot(epochs, loss, 'bo', label='Training Loss')\n",
        "  plt.plot(epochs, val_loss, 'b', label='Validation Loss')\n",
        "  plt.title('Training and validation loss')\n",
        "  plt.legend()\n",
        "\n",
        "  plt.show()\n",
        "  # Plot training results\n",
        "plot_loss_acc(history)"
      ],
      "metadata": {
        "colab": {
          "base_uri": "https://localhost:8080/",
          "height": 563
        },
        "id": "HRuOMNJsOXK5",
        "outputId": "dd30d93e-0b11-46ab-a6d3-6638f30c1d14"
      },
      "id": "HRuOMNJsOXK5",
      "execution_count": 27,
      "outputs": [
        {
          "output_type": "display_data",
          "data": {
            "text/plain": [
              "<Figure size 432x288 with 1 Axes>"
            ],
            "image/png": "[encoded data removed]"
          },
          "metadata": {
            "needs_background": "light"
          }
        },
        {
          "output_type": "display_data",
          "data": {
            "text/plain": [
              "<Figure size 432x288 with 0 Axes>"
            ]
          },
          "metadata": {}
        },
        {
          "output_type": "display_data",
          "data": {
            "text/plain": [
              "<Figure size 432x288 with 1 Axes>"
            ],
            "image/png": "[encoded data removed]"
          },
          "metadata": {
            "needs_background": "light"
          }
        }
      ]
    },
    {
      "cell_type": "code",
      "execution_count": 23,
      "metadata": {
        "id": "MWZrJN4-65RC",
        "tags": [],
        "colab": {
          "base_uri": "https://localhost:8080/",
          "height": 547
        },
        "outputId": "bd63cdbb-1d40-4028-bfca-039c49a27f2b"
      },
      "outputs": [
        {
          "output_type": "display_data",
          "data": {
            "text/plain": [
              "<Figure size 432x288 with 1 Axes>"
            ],
            "image/png": "[encoded data removed]"
          },
          "metadata": {
            "needs_background": "light"
          }
        },
        {
          "output_type": "stream",
          "name": "stdout",
          "text": [
            "\n"
          ]
        },
        {
          "output_type": "display_data",
          "data": {
            "text/plain": [
              "<Figure size 432x288 with 1 Axes>"
            ],
            "image/png": "[encoded data removed]"
          },
          "metadata": {
            "needs_background": "light"
          }
        }
      ],
      "source": [
        "#-----------------------------------------------------------\n",
        "# Retrieve a list of list results on training and test data\n",
        "# sets for each training epoch\n",
        "#-----------------------------------------------------------\n",
        "acc=history.history['accuracy']\n",
        "val_acc=history.history['val_accuracy']\n",
        "loss=history.history['loss']\n",
        "val_loss=history.history['val_loss']\n",
        "\n",
        "epochs=range(len(acc)) # Get number of epochs\n",
        "\n",
        "#------------------------------------------------\n",
        "# Plot training and validation accuracy per epoch\n",
        "#------------------------------------------------\n",
        "plt.plot(epochs, acc, 'r', \"Training Accuracy\")\n",
        "plt.plot(epochs, val_acc, 'b', \"Validation Accuracy\")\n",
        "plt.title('Training and validation accuracy')\n",
        "plt.show()\n",
        "print(\"\")\n",
        "\n",
        "#------------------------------------------------\n",
        "# Plot training and validation loss per epoch\n",
        "#------------------------------------------------\n",
        "plt.plot(epochs, loss, 'r', \"Training Loss\")\n",
        "plt.plot(epochs, val_loss, 'b', \"Validation Loss\")\n",
        "plt.show()"
      ],
      "id": "MWZrJN4-65RC"
    },
    {
      "cell_type": "markdown",
      "metadata": {
        "id": "NYIaqsN2pav6"
      },
      "source": [
        "You will probably encounter that the model is overfitting, which means that it is doing a great job at classifying the images in the training set but struggles with new data. This is perfectly fine and you will learn how to mitigate this issue in the upcomming week.\n",
        "\n",
        "Before closing the assignment, be sure to also download the `history.pkl` file which contains the information of the training history of your model. You can download this file by running the cell below:"
      ],
      "id": "NYIaqsN2pav6"
    },
    {
      "cell_type": "code",
      "execution_count": 28,
      "metadata": {
        "id": "yWcrc9nZTsHj",
        "tags": [],
        "colab": {
          "base_uri": "https://localhost:8080/",
          "height": 17
        },
        "outputId": "a9141e1d-1509-48c1-f15f-fad23fe16848"
      },
      "outputs": [
        {
          "output_type": "display_data",
          "data": {
            "text/plain": [
              "<IPython.core.display.Javascript object>"
            ],
            "application/javascript": [
              "\n",
              "    async function download(id, filename, size) {\n",
              "      if (!google.colab.kernel.accessAllowed) {\n",
              "        return;\n",
              "      }\n",
              "      const div = document.createElement('div');\n",
              "      const label = document.createElement('label');\n",
              "      label.textContent = `Downloading \"${filename}\": `;\n",
              "      div.appendChild(label);\n",
              "      const progress = document.createElement('progress');\n",
              "      progress.max = size;\n",
              "      div.appendChild(progress);\n",
              "      document.body.appendChild(div);\n",
              "\n",
              "      const buffers = [];\n",
              "      let downloaded = 0;\n",
              "\n",
              "      const channel = await google.colab.kernel.comms.open(id);\n",
              "      // Send a message to notify the kernel that we're ready.\n",
              "      channel.send({})\n",
              "\n",
              "      for await (const message of channel.messages) {\n",
              "        // Send a message to notify the kernel that we're ready.\n",
              "        channel.send({})\n",
              "        if (message.buffers) {\n",
              "          for (const buffer of message.buffers) {\n",
              "            buffers.push(buffer);\n",
              "            downloaded += buffer.byteLength;\n",
              "            progress.value = downloaded;\n",
              "          }\n",
              "        }\n",
              "      }\n",
              "      const blob = new Blob(buffers, {type: 'application/binary'});\n",
              "      const a = document.createElement('a');\n",
              "      a.href = window.URL.createObjectURL(blob);\n",
              "      a.download = filename;\n",
              "      div.appendChild(a);\n",
              "      a.click();\n",
              "      div.remove();\n",
              "    }\n",
              "  "
            ]
          },
          "metadata": {}
        },
        {
          "output_type": "display_data",
          "data": {
            "text/plain": [
              "<IPython.core.display.Javascript object>"
            ],
            "application/javascript": [
              "download(\"download_61586729-b158-46a1-a331-ffa6ad03c2a0\", \"history_augmented.pkl\", 3688)"
            ]
          },
          "metadata": {}
        }
      ],
      "source": [
        "def download_history():\n",
        "  import pickle\n",
        "  from google.colab import files\n",
        "\n",
        "  with open('history_augmented.pkl', 'wb') as f:\n",
        "    pickle.dump(history.history, f)\n",
        "\n",
        "  files.download('history_augmented.pkl')\n",
        "\n",
        "download_history()"
      ],
      "id": "yWcrc9nZTsHj"
    },
    {
      "cell_type": "markdown",
      "metadata": {
        "id": "yEj7UVe0OgMq"
      },
      "source": [
        "You will also need to submit this notebook for grading. To download it, click on the `File` tab in the upper left corner of the screen then click on `Download` -> `Download .ipynb`. You can name it anything you want as long as it is a valid `.ipynb` (jupyter notebook) file."
      ],
      "id": "yEj7UVe0OgMq"
    },
    {
      "cell_type": "markdown",
      "metadata": {
        "id": "joAaZSWWpbOI"
      },
      "source": [
        "**Congratulations on finishing this week's assignment!**\n",
        "\n",
        "You have successfully implemented a convolutional neural network that classifies images of cats and dogs, along with the helper functions needed to pre-process the images!\n",
        "\n",
        "**Keep it up!**"
      ],
      "id": "joAaZSWWpbOI"
    }
  ],
  "metadata": {
    "accelerator": "GPU",
    "kernelspec": {
      "display_name": "Python 3",
      "language": "python",
      "name": "python3"
    },
    "language_info": {
      "codemirror_mode": {
        "name": "ipython",
        "version": 3
      },
      "file_extension": ".py",
      "mimetype": "text/x-python",
      "name": "python",
      "nbconvert_exporter": "python",
      "pygments_lexer": "ipython3",
      "version": "3.7.4"
    },
    "colab": {
      "provenance": [],
      "machine_shape": "hm",
      "include_colab_link": true
    },
    "gpuClass": "premium"
  },
  "nbformat": 4,
  "nbformat_minor": 5
}